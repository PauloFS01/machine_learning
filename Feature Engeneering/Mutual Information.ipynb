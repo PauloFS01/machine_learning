{
 "cells": [
  {
   "cell_type": "markdown",
   "id": "f05b02f6",
   "metadata": {},
   "source": [
    "### The mutual information (MI) between two quantities is a measure of the extent to which knowledge of one quantity reduces uncertainty about the other."
   ]
  },
  {
   "cell_type": "code",
   "execution_count": 9,
   "id": "80af0f8f",
   "metadata": {},
   "outputs": [],
   "source": [
    "import pandas as pd\n",
    "import seaborn as sns\n",
    "import matplotlib.pyplot as plt\n",
    "from sklearn.feature_selection import mutual_info_regression\n",
    "\n",
    "df = pd.read_csv('../CSVs/autos.csv')"
   ]
  },
  {
   "cell_type": "markdown",
   "id": "700fd52e",
   "metadata": {},
   "source": [
    "## Scikit-learn has two mutual information metrics"
   ]
  },
  {
   "cell_type": "code",
   "execution_count": 5,
   "id": "68635810",
   "metadata": {},
   "outputs": [],
   "source": [
    "# The scikit-learn algorithm for MI treats discrete features differently from continuous features.\n",
    "# Consequently, you need to tell it which are which. As a rule of thumb, anything that must have a float dtype is not discrete.\n",
    "\n",
    "X = df.copy()\n",
    "y = X.pop(\"price\")\n",
    "\n",
    "# Label encoding for categoricals\n",
    "for colname in X.select_dtypes(\"object\"):\n",
    "    X[colname], _ = X[colname].factorize()\n",
    "\n",
    "# All discrete features should now have integer dtypes (double-check this before using MI!)\n",
    "discrete_features = X.dtypes == int"
   ]
  },
  {
   "cell_type": "code",
   "execution_count": 8,
   "id": "773580f7",
   "metadata": {},
   "outputs": [
    {
     "data": {
      "text/plain": [
       "curb_weight          0.918322\n",
       "highway_mpg          0.870642\n",
       "length               0.612999\n",
       "fuel_system          0.471325\n",
       "num_of_cylinders     0.332440\n",
       "symboling            0.234179\n",
       "compression_ratio    0.096908\n",
       "fuel_type            0.047279\n",
       "Name: MI Scores, dtype: float64"
      ]
     },
     "execution_count": 8,
     "metadata": {},
     "output_type": "execute_result"
    }
   ],
   "source": [
    "# Computes the MI scores for our features and wraps them up in a nice dataframe.\n",
    "def make_mi_scores(X, y, discrete_features):\n",
    "    mi_scores = mutual_info_regression(X, y, discrete_features=discrete_features)\n",
    "    mi_scores = pd.Series(mi_scores, name=\"MI Scores\", index=X.columns)\n",
    "    mi_scores = mi_scores.sort_values(ascending=False)\n",
    "    return mi_scores\n",
    "\n",
    "mi_scores = make_mi_scores(X, y, discrete_features)\n",
    "mi_scores[::3]  # show a few features with their MI scores"
   ]
  },
  {
   "cell_type": "code",
   "execution_count": 10,
   "id": "228af87b",
   "metadata": {},
   "outputs": [
    {
     "ename": "NameError",
     "evalue": "name 'np' is not defined",
     "output_type": "error",
     "traceback": [
      "\u001b[1;31m---------------------------------------------------------------------------\u001b[0m",
      "\u001b[1;31mNameError\u001b[0m                                 Traceback (most recent call last)",
      "Cell \u001b[1;32mIn[10], line 11\u001b[0m\n\u001b[0;32m      7\u001b[0m     plt\u001b[38;5;241m.\u001b[39mtitle(\u001b[38;5;124m\"\u001b[39m\u001b[38;5;124mMutual Information Scores\u001b[39m\u001b[38;5;124m\"\u001b[39m)\n\u001b[0;32m     10\u001b[0m plt\u001b[38;5;241m.\u001b[39mfigure(dpi\u001b[38;5;241m=\u001b[39m\u001b[38;5;241m100\u001b[39m, figsize\u001b[38;5;241m=\u001b[39m(\u001b[38;5;241m8\u001b[39m, \u001b[38;5;241m5\u001b[39m))\n\u001b[1;32m---> 11\u001b[0m \u001b[43mplot_mi_scores\u001b[49m\u001b[43m(\u001b[49m\u001b[43mmi_scores\u001b[49m\u001b[43m)\u001b[49m\n",
      "Cell \u001b[1;32mIn[10], line 3\u001b[0m, in \u001b[0;36mplot_mi_scores\u001b[1;34m(scores)\u001b[0m\n\u001b[0;32m      1\u001b[0m \u001b[38;5;28;01mdef\u001b[39;00m \u001b[38;5;21mplot_mi_scores\u001b[39m(scores):\n\u001b[0;32m      2\u001b[0m     scores \u001b[38;5;241m=\u001b[39m scores\u001b[38;5;241m.\u001b[39msort_values(ascending\u001b[38;5;241m=\u001b[39m\u001b[38;5;28;01mTrue\u001b[39;00m)\n\u001b[1;32m----> 3\u001b[0m     width \u001b[38;5;241m=\u001b[39m \u001b[43mnp\u001b[49m\u001b[38;5;241m.\u001b[39marange(\u001b[38;5;28mlen\u001b[39m(scores))\n\u001b[0;32m      4\u001b[0m     ticks \u001b[38;5;241m=\u001b[39m \u001b[38;5;28mlist\u001b[39m(scores\u001b[38;5;241m.\u001b[39mindex)\n\u001b[0;32m      5\u001b[0m     plt\u001b[38;5;241m.\u001b[39mbarh(width, scores)\n",
      "\u001b[1;31mNameError\u001b[0m: name 'np' is not defined"
     ]
    },
    {
     "data": {
      "text/plain": [
       "<Figure size 800x500 with 0 Axes>"
      ]
     },
     "metadata": {},
     "output_type": "display_data"
    }
   ],
   "source": [
    "def plot_mi_scores(scores):\n",
    "    scores = scores.sort_values(ascending=True)\n",
    "    width = np.arange(len(scores))\n",
    "    ticks = list(scores.index)\n",
    "    plt.barh(width, scores)\n",
    "    plt.yticks(width, ticks)\n",
    "    plt.title(\"Mutual Information Scores\")\n",
    "\n",
    "\n",
    "plt.figure(dpi=100, figsize=(8, 5))\n",
    "plot_mi_scores(mi_scores)"
   ]
  }
 ],
 "metadata": {
  "kernelspec": {
   "display_name": "Python 3 (ipykernel)",
   "language": "python",
   "name": "python3"
  },
  "language_info": {
   "codemirror_mode": {
    "name": "ipython",
    "version": 3
   },
   "file_extension": ".py",
   "mimetype": "text/x-python",
   "name": "python",
   "nbconvert_exporter": "python",
   "pygments_lexer": "ipython3",
   "version": "3.11.3"
  }
 },
 "nbformat": 4,
 "nbformat_minor": 5
}
